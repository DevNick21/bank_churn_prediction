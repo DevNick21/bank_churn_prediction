{
 "cells": [
  {
   "cell_type": "code",
   "execution_count": 1,
   "metadata": {},
   "outputs": [
    {
     "name": "stdout",
     "output_type": "stream",
     "text": [
      "WARNING:tensorflow:From c:\\ProgramData\\anaconda3\\envs\\py3-TF2.0\\Lib\\site-packages\\keras\\src\\losses.py:2976: The name tf.losses.sparse_softmax_cross_entropy is deprecated. Please use tf.compat.v1.losses.sparse_softmax_cross_entropy instead.\n",
      "\n"
     ]
    }
   ],
   "source": [
    "import numpy as np\n",
    "import tensorflow as tf"
   ]
  },
  {
   "cell_type": "code",
   "execution_count": 10,
   "metadata": {},
   "outputs": [],
   "source": [
    "npz_train = np.load('Bank_Churn_train.npz')\n",
    "\n",
    "train_inputs, train_targets = npz_train['inputs'].astype(np.float16), npz_train['targets'].astype(np.int32)\n",
    "\n",
    "npz_val = np.load('Bank_Churn_validation.npz')\n",
    "\n",
    "val_inputs, val_targets = npz_val['inputs'].astype(np.float16), npz_val['targets'].astype(np.int32)\n",
    "\n",
    "npz_test = np.load('Bank_Churn_test.npz')\n",
    "\n",
    "test_inputs, test_targets = npz_test['inputs'].astype(np.float16), npz_test['targets'].astype(np.int32)"
   ]
  },
  {
   "cell_type": "code",
   "execution_count": 12,
   "metadata": {},
   "outputs": [
    {
     "name": "stdout",
     "output_type": "stream",
     "text": [
      "Epoch 1/50\n",
      "64/64 - 1s - loss: 0.5128 - accuracy: 0.7695 - val_loss: 0.4250 - val_accuracy: 0.8025 - 1s/epoch - 17ms/step\n",
      "Epoch 2/50\n",
      "64/64 - 0s - loss: 0.4241 - accuracy: 0.8156 - val_loss: 0.3950 - val_accuracy: 0.8275 - 168ms/epoch - 3ms/step\n",
      "Epoch 3/50\n",
      "64/64 - 0s - loss: 0.4008 - accuracy: 0.8352 - val_loss: 0.3748 - val_accuracy: 0.8419 - 131ms/epoch - 2ms/step\n",
      "Epoch 4/50\n",
      "64/64 - 0s - loss: 0.3767 - accuracy: 0.8477 - val_loss: 0.3581 - val_accuracy: 0.8494 - 132ms/epoch - 2ms/step\n",
      "Epoch 5/50\n",
      "64/64 - 0s - loss: 0.3602 - accuracy: 0.8531 - val_loss: 0.3493 - val_accuracy: 0.8562 - 164ms/epoch - 3ms/step\n",
      "Epoch 6/50\n",
      "64/64 - 0s - loss: 0.3512 - accuracy: 0.8580 - val_loss: 0.3459 - val_accuracy: 0.8562 - 118ms/epoch - 2ms/step\n",
      "Epoch 7/50\n",
      "64/64 - 0s - loss: 0.3452 - accuracy: 0.8548 - val_loss: 0.3421 - val_accuracy: 0.8612 - 130ms/epoch - 2ms/step\n",
      "Epoch 8/50\n",
      "64/64 - 0s - loss: 0.3403 - accuracy: 0.8587 - val_loss: 0.3410 - val_accuracy: 0.8625 - 157ms/epoch - 2ms/step\n",
      "Epoch 9/50\n",
      "64/64 - 0s - loss: 0.3378 - accuracy: 0.8595 - val_loss: 0.3396 - val_accuracy: 0.8594 - 133ms/epoch - 2ms/step\n",
      "Epoch 10/50\n",
      "64/64 - 0s - loss: 0.3361 - accuracy: 0.8609 - val_loss: 0.3368 - val_accuracy: 0.8587 - 153ms/epoch - 2ms/step\n",
      "Epoch 11/50\n",
      "64/64 - 0s - loss: 0.3321 - accuracy: 0.8622 - val_loss: 0.3395 - val_accuracy: 0.8612 - 147ms/epoch - 2ms/step\n",
      "Epoch 12/50\n",
      "64/64 - 0s - loss: 0.3307 - accuracy: 0.8655 - val_loss: 0.3364 - val_accuracy: 0.8594 - 124ms/epoch - 2ms/step\n",
      "Epoch 13/50\n",
      "64/64 - 0s - loss: 0.3302 - accuracy: 0.8627 - val_loss: 0.3389 - val_accuracy: 0.8594 - 142ms/epoch - 2ms/step\n",
      "Epoch 14/50\n",
      "64/64 - 0s - loss: 0.3276 - accuracy: 0.8658 - val_loss: 0.3365 - val_accuracy: 0.8581 - 129ms/epoch - 2ms/step\n"
     ]
    },
    {
     "data": {
      "text/plain": [
       "<keras.src.callbacks.History at 0x2baf640bed0>"
      ]
     },
     "execution_count": 12,
     "metadata": {},
     "output_type": "execute_result"
    }
   ],
   "source": [
    "output_size = 2\n",
    "hidden_layer_size = 50\n",
    "\n",
    "model = tf.keras.Sequential([\n",
    "                            tf.keras.layers.Dense(hidden_layer_size, activation=\"relu\"),\n",
    "                            tf.keras.layers.Dense(\n",
    "                                hidden_layer_size, activation=\"relu\"),\n",
    "                            tf.keras.layers.Dense(output_size, activation=\"softmax\"),\n",
    "])\n",
    "\n",
    "model.compile(optimizer='adam',\n",
    "              loss='sparse_categorical_crossentropy', metrics=['accuracy'])\n",
    "\n",
    "batch_size = 100\n",
    "max_epochs = 50\n",
    "early_stopping = tf.keras.callbacks.EarlyStopping(patience=2)\n",
    "\n",
    "model.fit(train_inputs, train_targets,\n",
    "          batch_size=batch_size,\n",
    "          epochs=max_epochs,\n",
    "          callbacks=[early_stopping],\n",
    "          validation_data=(val_inputs, val_targets),\n",
    "          verbose=2)"
   ]
  },
  {
   "cell_type": "code",
   "execution_count": 13,
   "metadata": {},
   "outputs": [
    {
     "name": "stdout",
     "output_type": "stream",
     "text": [
      "63/63 [==============================] - 0s 2ms/step - loss: 0.3482 - accuracy: 0.8615\n"
     ]
    }
   ],
   "source": [
    "test_loss, test_accuracy = model.evaluate(test_inputs, test_targets)"
   ]
  }
 ],
 "metadata": {
  "kernelspec": {
   "display_name": "py3-TF2.0",
   "language": "python",
   "name": "python3"
  },
  "language_info": {
   "codemirror_mode": {
    "name": "ipython",
    "version": 3
   },
   "file_extension": ".py",
   "mimetype": "text/x-python",
   "name": "python",
   "nbconvert_exporter": "python",
   "pygments_lexer": "ipython3",
   "version": "3.11.5"
  }
 },
 "nbformat": 4,
 "nbformat_minor": 2
}
