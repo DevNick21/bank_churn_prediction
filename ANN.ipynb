{
 "cells": [
  {
   "cell_type": "code",
   "execution_count": 14,
   "metadata": {},
   "outputs": [],
   "source": [
    "import numpy as np\n",
    "import tensorflow as tf"
   ]
  },
  {
   "cell_type": "code",
   "execution_count": 15,
   "metadata": {},
   "outputs": [],
   "source": [
    "npz_train = np.load('Bank_Churn_train.npz')\n",
    "\n",
    "train_inputs, train_targets = npz_train['inputs'].astype(np.float16), npz_train['targets'].astype(np.int32)\n",
    "\n",
    "npz_val = np.load('Bank_Churn_validation.npz')\n",
    "\n",
    "val_inputs, val_targets = npz_val['inputs'].astype(np.float16), npz_val['targets'].astype(np.int32)\n",
    "\n",
    "npz_test = np.load('Bank_Churn_test.npz')\n",
    "\n",
    "test_inputs, test_targets = npz_test['inputs'].astype(np.float16), npz_test['targets'].astype(np.int32)"
   ]
  },
  {
   "cell_type": "code",
   "execution_count": 23,
   "metadata": {},
   "outputs": [
    {
     "name": "stdout",
     "output_type": "stream",
     "text": [
      "Epoch 1/30\n",
      "64/64 - 1s - loss: 0.5115 - accuracy: 0.7786 - val_loss: 0.4412 - val_accuracy: 0.8056 - 1s/epoch - 20ms/step\n",
      "Epoch 2/30\n",
      "64/64 - 0s - loss: 0.4377 - accuracy: 0.8061 - val_loss: 0.4181 - val_accuracy: 0.8131 - 115ms/epoch - 2ms/step\n",
      "Epoch 3/30\n",
      "64/64 - 0s - loss: 0.4196 - accuracy: 0.8184 - val_loss: 0.4064 - val_accuracy: 0.8219 - 134ms/epoch - 2ms/step\n",
      "Epoch 4/30\n",
      "64/64 - 0s - loss: 0.4050 - accuracy: 0.8266 - val_loss: 0.3935 - val_accuracy: 0.8250 - 164ms/epoch - 3ms/step\n",
      "Epoch 5/30\n",
      "64/64 - 0s - loss: 0.3874 - accuracy: 0.8411 - val_loss: 0.3775 - val_accuracy: 0.8406 - 131ms/epoch - 2ms/step\n",
      "Epoch 6/30\n",
      "64/64 - 0s - loss: 0.3687 - accuracy: 0.8491 - val_loss: 0.3600 - val_accuracy: 0.8500 - 114ms/epoch - 2ms/step\n",
      "Epoch 7/30\n",
      "64/64 - 0s - loss: 0.3540 - accuracy: 0.8573 - val_loss: 0.3568 - val_accuracy: 0.8550 - 156ms/epoch - 2ms/step\n",
      "Epoch 8/30\n",
      "64/64 - 0s - loss: 0.3468 - accuracy: 0.8592 - val_loss: 0.3474 - val_accuracy: 0.8575 - 149ms/epoch - 2ms/step\n",
      "Epoch 9/30\n",
      "64/64 - 0s - loss: 0.3415 - accuracy: 0.8587 - val_loss: 0.3439 - val_accuracy: 0.8606 - 133ms/epoch - 2ms/step\n",
      "Epoch 10/30\n",
      "64/64 - 0s - loss: 0.3384 - accuracy: 0.8580 - val_loss: 0.3433 - val_accuracy: 0.8600 - 158ms/epoch - 2ms/step\n",
      "Epoch 11/30\n",
      "64/64 - 0s - loss: 0.3355 - accuracy: 0.8609 - val_loss: 0.3411 - val_accuracy: 0.8619 - 142ms/epoch - 2ms/step\n",
      "Epoch 12/30\n",
      "64/64 - 0s - loss: 0.3321 - accuracy: 0.8633 - val_loss: 0.3431 - val_accuracy: 0.8587 - 124ms/epoch - 2ms/step\n",
      "Epoch 13/30\n",
      "64/64 - 0s - loss: 0.3316 - accuracy: 0.8630 - val_loss: 0.3381 - val_accuracy: 0.8637 - 150ms/epoch - 2ms/step\n",
      "Epoch 14/30\n",
      "64/64 - 0s - loss: 0.3307 - accuracy: 0.8644 - val_loss: 0.3392 - val_accuracy: 0.8594 - 116ms/epoch - 2ms/step\n",
      "Epoch 15/30\n",
      "64/64 - 0s - loss: 0.3279 - accuracy: 0.8631 - val_loss: 0.3383 - val_accuracy: 0.8594 - 133ms/epoch - 2ms/step\n"
     ]
    },
    {
     "data": {
      "text/plain": [
       "<keras.src.callbacks.History at 0x2bafc21dc50>"
      ]
     },
     "execution_count": 23,
     "metadata": {},
     "output_type": "execute_result"
    }
   ],
   "source": [
    "output_size = 1\n",
    "hidden_layer_size = 50\n",
    "\n",
    "model = tf.keras.Sequential([\n",
    "                            tf.keras.layers.Dense(hidden_layer_size, activation=\"relu\"),\n",
    "                            tf.keras.layers.Dense(hidden_layer_size, activation=\"relu\"),\n",
    "                            tf.keras.layers.Dense(output_size, activation=\"sigmoid\"),\n",
    "])\n",
    "\n",
    "model.compile(optimizer='adam',\n",
    "              loss='binary_crossentropy', metrics=['accuracy'])\n",
    "\n",
    "batch_size = 100\n",
    "max_epochs = 30\n",
    "early_stopping = tf.keras.callbacks.EarlyStopping(patience=2)\n",
    "\n",
    "model.fit(train_inputs, train_targets,\n",
    "          batch_size=batch_size,\n",
    "          epochs=max_epochs,\n",
    "          callbacks=[early_stopping],\n",
    "          validation_data=(val_inputs, val_targets),\n",
    "          verbose=2)"
   ]
  },
  {
   "cell_type": "code",
   "execution_count": 24,
   "metadata": {},
   "outputs": [
    {
     "name": "stdout",
     "output_type": "stream",
     "text": [
      "63/63 [==============================] - 0s 2ms/step - loss: 0.3421 - accuracy: 0.8575\n"
     ]
    }
   ],
   "source": [
    "test_loss, test_accuracy = model.evaluate(test_inputs, test_targets)"
   ]
  }
 ],
 "metadata": {
  "kernelspec": {
   "display_name": "py3-TF2.0",
   "language": "python",
   "name": "python3"
  },
  "language_info": {
   "codemirror_mode": {
    "name": "ipython",
    "version": 3
   },
   "file_extension": ".py",
   "mimetype": "text/x-python",
   "name": "python",
   "nbconvert_exporter": "python",
   "pygments_lexer": "ipython3",
   "version": "3.11.5"
  }
 },
 "nbformat": 4,
 "nbformat_minor": 2
}
